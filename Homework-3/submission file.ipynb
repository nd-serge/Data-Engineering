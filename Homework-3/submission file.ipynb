{
 "cells": [
  {
   "cell_type": "code",
   "execution_count": 7,
   "id": "47079c1a-4891-4720-b693-c061e095ceed",
   "metadata": {},
   "outputs": [
    {
     "name": "stdout",
     "output_type": "stream",
     "text": [
      "Collecting pyarrow\n",
      "  Downloading pyarrow-15.0.0-cp311-cp311-macosx_11_0_arm64.whl.metadata (3.0 kB)\n",
      "Requirement already satisfied: numpy<2,>=1.16.6 in /Users/serge-nd/PycharmProjects/Data engineering/lab/.venv/lib/python3.11/site-packages (from pyarrow) (1.26.3)\n",
      "Downloading pyarrow-15.0.0-cp311-cp311-macosx_11_0_arm64.whl (24.2 MB)\n",
      "\u001b[2K   \u001b[38;2;114;156;31m━━━━━━━━━━━━━━━━━━━━━━━━━━━━━━━━━━━━━━━━\u001b[0m \u001b[32m24.2/24.2 MB\u001b[0m \u001b[31m131.0 kB/s\u001b[0m eta \u001b[36m0:00:00\u001b[0mm eta \u001b[36m0:00:01\u001b[0m[36m0:00:05\u001b[0m\n",
      "\u001b[?25hInstalling collected packages: pyarrow\n",
      "Successfully installed pyarrow-15.0.0\n",
      "\n",
      "\u001b[1m[\u001b[0m\u001b[34;49mnotice\u001b[0m\u001b[1;39;49m]\u001b[0m\u001b[39;49m A new release of pip is available: \u001b[0m\u001b[31;49m23.3.2\u001b[0m\u001b[39;49m -> \u001b[0m\u001b[32;49m24.0\u001b[0m\n",
      "\u001b[1m[\u001b[0m\u001b[34;49mnotice\u001b[0m\u001b[1;39;49m]\u001b[0m\u001b[39;49m To update, run: \u001b[0m\u001b[32;49mpip install --upgrade pip\u001b[0m\n"
     ]
    }
   ],
   "source": [
    "!pip install pyarrow"
   ]
  },
  {
   "cell_type": "code",
   "execution_count": 18,
   "id": "00c83e44-b466-4245-bf7a-515c81812e3e",
   "metadata": {},
   "outputs": [
    {
     "name": "stdout",
     "output_type": "stream",
     "text": [
      "Collecting pandas_gbq\n",
      "  Downloading pandas_gbq-0.21.0-py2.py3-none-any.whl.metadata (3.4 kB)\n",
      "Requirement already satisfied: setuptools in /Users/serge-nd/PycharmProjects/Data engineering/lab/.venv/lib/python3.11/site-packages (from pandas_gbq) (68.2.2)\n",
      "Collecting db-dtypes<2.0.0,>=1.0.4 (from pandas_gbq)\n",
      "  Downloading db_dtypes-1.2.0-py2.py3-none-any.whl.metadata (3.0 kB)\n",
      "Requirement already satisfied: numpy>=1.16.6 in /Users/serge-nd/PycharmProjects/Data engineering/lab/.venv/lib/python3.11/site-packages (from pandas_gbq) (1.26.3)\n",
      "Requirement already satisfied: pandas>=1.1.4 in /Users/serge-nd/PycharmProjects/Data engineering/lab/.venv/lib/python3.11/site-packages (from pandas_gbq) (2.2.0)\n",
      "Requirement already satisfied: pyarrow>=3.0.0 in /Users/serge-nd/PycharmProjects/Data engineering/lab/.venv/lib/python3.11/site-packages (from pandas_gbq) (15.0.0)\n",
      "Collecting pydata-google-auth>=1.5.0 (from pandas_gbq)\n",
      "  Downloading pydata_google_auth-1.8.2-py2.py3-none-any.whl.metadata (3.2 kB)\n",
      "Collecting google-api-core<3.0.0dev,>=2.10.2 (from pandas_gbq)\n",
      "  Downloading google_api_core-2.17.0-py3-none-any.whl.metadata (2.7 kB)\n",
      "Collecting google-auth>=2.13.0 (from pandas_gbq)\n",
      "  Downloading google_auth-2.27.0-py2.py3-none-any.whl.metadata (4.7 kB)\n",
      "Collecting google-auth-oauthlib>=0.7.0 (from pandas_gbq)\n",
      "  Downloading google_auth_oauthlib-1.2.0-py2.py3-none-any.whl.metadata (2.7 kB)\n",
      "Collecting google-cloud-bigquery<4.0.0dev,>=3.3.5 (from pandas_gbq)\n",
      "  Downloading google_cloud_bigquery-3.17.2-py2.py3-none-any.whl.metadata (8.8 kB)\n",
      "Collecting google-cloud-bigquery-storage<3.0.0dev,>=2.16.2 (from pandas_gbq)\n",
      "  Downloading google_cloud_bigquery_storage-2.24.0-py2.py3-none-any.whl.metadata (5.6 kB)\n",
      "Requirement already satisfied: packaging>=20.0.0 in /Users/serge-nd/PycharmProjects/Data engineering/lab/.venv/lib/python3.11/site-packages (from pandas_gbq) (23.2)\n",
      "Collecting googleapis-common-protos<2.0.dev0,>=1.56.2 (from google-api-core<3.0.0dev,>=2.10.2->pandas_gbq)\n",
      "  Downloading googleapis_common_protos-1.62.0-py2.py3-none-any.whl.metadata (1.5 kB)\n",
      "Collecting protobuf!=3.20.0,!=3.20.1,!=4.21.0,!=4.21.1,!=4.21.2,!=4.21.3,!=4.21.4,!=4.21.5,<5.0.0.dev0,>=3.19.5 (from google-api-core<3.0.0dev,>=2.10.2->pandas_gbq)\n",
      "  Downloading protobuf-4.25.2-cp37-abi3-macosx_10_9_universal2.whl.metadata (541 bytes)\n",
      "Requirement already satisfied: requests<3.0.0.dev0,>=2.18.0 in /Users/serge-nd/PycharmProjects/Data engineering/lab/.venv/lib/python3.11/site-packages (from google-api-core<3.0.0dev,>=2.10.2->pandas_gbq) (2.31.0)\n",
      "Collecting cachetools<6.0,>=2.0.0 (from google-auth>=2.13.0->pandas_gbq)\n",
      "  Downloading cachetools-5.3.2-py3-none-any.whl.metadata (5.2 kB)\n",
      "Collecting pyasn1-modules>=0.2.1 (from google-auth>=2.13.0->pandas_gbq)\n",
      "  Downloading pyasn1_modules-0.3.0-py2.py3-none-any.whl (181 kB)\n",
      "\u001b[2K     \u001b[38;2;114;156;31m━━━━━━━━━━━━━━━━━━━━━━━━━━━━━━━━━━━━━\u001b[0m \u001b[32m181.3/181.3 kB\u001b[0m \u001b[31m202.6 kB/s\u001b[0m eta \u001b[36m0:00:00\u001b[0m1m197.7 kB/s\u001b[0m eta \u001b[36m0:00:01\u001b[0m\n",
      "\u001b[?25hCollecting rsa<5,>=3.1.4 (from google-auth>=2.13.0->pandas_gbq)\n",
      "  Downloading rsa-4.9-py3-none-any.whl (34 kB)\n",
      "Collecting requests-oauthlib>=0.7.0 (from google-auth-oauthlib>=0.7.0->pandas_gbq)\n",
      "  Downloading requests_oauthlib-1.3.1-py2.py3-none-any.whl (23 kB)\n",
      "Collecting google-cloud-core<3.0.0dev,>=1.6.0 (from google-cloud-bigquery<4.0.0dev,>=3.3.5->pandas_gbq)\n",
      "  Downloading google_cloud_core-2.4.1-py2.py3-none-any.whl.metadata (2.7 kB)\n",
      "Collecting google-resumable-media<3.0dev,>=0.6.0 (from google-cloud-bigquery<4.0.0dev,>=3.3.5->pandas_gbq)\n",
      "  Downloading google_resumable_media-2.7.0-py2.py3-none-any.whl.metadata (2.2 kB)\n",
      "Requirement already satisfied: python-dateutil<3.0dev,>=2.7.2 in /Users/serge-nd/PycharmProjects/Data engineering/lab/.venv/lib/python3.11/site-packages (from google-cloud-bigquery<4.0.0dev,>=3.3.5->pandas_gbq) (2.8.2)\n",
      "Collecting proto-plus<2.0.0dev,>=1.22.0 (from google-cloud-bigquery-storage<3.0.0dev,>=2.16.2->pandas_gbq)\n",
      "  Downloading proto_plus-1.23.0-py3-none-any.whl.metadata (2.2 kB)\n",
      "Requirement already satisfied: pytz>=2020.1 in /Users/serge-nd/PycharmProjects/Data engineering/lab/.venv/lib/python3.11/site-packages (from pandas>=1.1.4->pandas_gbq) (2023.3.post1)\n",
      "Requirement already satisfied: tzdata>=2022.7 in /Users/serge-nd/PycharmProjects/Data engineering/lab/.venv/lib/python3.11/site-packages (from pandas>=1.1.4->pandas_gbq) (2023.4)\n",
      "Collecting grpcio<2.0dev,>=1.33.2 (from google-api-core[grpc]!=2.0.*,!=2.1.*,!=2.10.*,!=2.2.*,!=2.3.*,!=2.4.*,!=2.5.*,!=2.6.*,!=2.7.*,!=2.8.*,!=2.9.*,<3.0.0dev,>=1.34.0->google-cloud-bigquery-storage<3.0.0dev,>=2.16.2->pandas_gbq)\n",
      "  Downloading grpcio-1.60.1-cp311-cp311-macosx_10_10_universal2.whl.metadata (4.0 kB)\n",
      "Collecting grpcio-status<2.0.dev0,>=1.33.2 (from google-api-core[grpc]!=2.0.*,!=2.1.*,!=2.10.*,!=2.2.*,!=2.3.*,!=2.4.*,!=2.5.*,!=2.6.*,!=2.7.*,!=2.8.*,!=2.9.*,<3.0.0dev,>=1.34.0->google-cloud-bigquery-storage<3.0.0dev,>=2.16.2->pandas_gbq)\n",
      "  Downloading grpcio_status-1.60.1-py3-none-any.whl.metadata (1.3 kB)\n",
      "Collecting google-crc32c<2.0dev,>=1.0 (from google-resumable-media<3.0dev,>=0.6.0->google-cloud-bigquery<4.0.0dev,>=3.3.5->pandas_gbq)\n",
      "  Downloading google_crc32c-1.5.0-cp311-cp311-macosx_10_9_universal2.whl (32 kB)\n",
      "Collecting pyasn1<0.6.0,>=0.4.6 (from pyasn1-modules>=0.2.1->google-auth>=2.13.0->pandas_gbq)\n",
      "  Using cached pyasn1-0.5.1-py2.py3-none-any.whl.metadata (8.6 kB)\n",
      "Requirement already satisfied: six>=1.5 in /Users/serge-nd/PycharmProjects/Data engineering/lab/.venv/lib/python3.11/site-packages (from python-dateutil<3.0dev,>=2.7.2->google-cloud-bigquery<4.0.0dev,>=3.3.5->pandas_gbq) (1.16.0)\n",
      "Requirement already satisfied: charset-normalizer<4,>=2 in /Users/serge-nd/PycharmProjects/Data engineering/lab/.venv/lib/python3.11/site-packages (from requests<3.0.0.dev0,>=2.18.0->google-api-core<3.0.0dev,>=2.10.2->pandas_gbq) (3.3.2)\n",
      "Requirement already satisfied: idna<4,>=2.5 in /Users/serge-nd/PycharmProjects/Data engineering/lab/.venv/lib/python3.11/site-packages (from requests<3.0.0.dev0,>=2.18.0->google-api-core<3.0.0dev,>=2.10.2->pandas_gbq) (3.6)\n",
      "Requirement already satisfied: urllib3<3,>=1.21.1 in /Users/serge-nd/PycharmProjects/Data engineering/lab/.venv/lib/python3.11/site-packages (from requests<3.0.0.dev0,>=2.18.0->google-api-core<3.0.0dev,>=2.10.2->pandas_gbq) (2.1.0)\n",
      "Requirement already satisfied: certifi>=2017.4.17 in /Users/serge-nd/PycharmProjects/Data engineering/lab/.venv/lib/python3.11/site-packages (from requests<3.0.0.dev0,>=2.18.0->google-api-core<3.0.0dev,>=2.10.2->pandas_gbq) (2023.11.17)\n",
      "Collecting oauthlib>=3.0.0 (from requests-oauthlib>=0.7.0->google-auth-oauthlib>=0.7.0->pandas_gbq)\n",
      "  Downloading oauthlib-3.2.2-py3-none-any.whl (151 kB)\n",
      "\u001b[2K     \u001b[38;2;114;156;31m━━━━━━━━━━━━━━━━━━━━━━━━━━━━━━━━━━━━━\u001b[0m \u001b[32m151.7/151.7 kB\u001b[0m \u001b[31m549.9 kB/s\u001b[0m eta \u001b[36m0:00:00\u001b[0m1m559.7 kB/s\u001b[0m eta \u001b[36m0:00:01\u001b[0m\n",
      "\u001b[?25hDownloading pandas_gbq-0.21.0-py2.py3-none-any.whl (26 kB)\n",
      "Downloading db_dtypes-1.2.0-py2.py3-none-any.whl (14 kB)\n",
      "Downloading google_api_core-2.17.0-py3-none-any.whl (136 kB)\n",
      "\u001b[2K   \u001b[38;2;114;156;31m━━━━━━━━━━━━━━━━━━━━━━━━━━━━━━━━━━━━━━━\u001b[0m \u001b[32m136.9/136.9 kB\u001b[0m \u001b[31m354.3 kB/s\u001b[0m eta \u001b[36m0:00:00\u001b[0m1m755.4 kB/s\u001b[0m eta \u001b[36m0:00:01\u001b[0m\n",
      "\u001b[?25hDownloading google_auth-2.27.0-py2.py3-none-any.whl (186 kB)\n",
      "\u001b[2K   \u001b[38;2;114;156;31m━━━━━━━━━━━━━━━━━━━━━━━━━━━━━━━━━━━━━━━\u001b[0m \u001b[32m186.8/186.8 kB\u001b[0m \u001b[31m230.9 kB/s\u001b[0m eta \u001b[36m0:00:00\u001b[0m kB/s\u001b[0m eta \u001b[36m0:00:01\u001b[0m:01\u001b[0m\n",
      "\u001b[?25hDownloading google_auth_oauthlib-1.2.0-py2.py3-none-any.whl (24 kB)\n",
      "Downloading google_cloud_bigquery-3.17.2-py2.py3-none-any.whl (230 kB)\n",
      "\u001b[2K   \u001b[38;2;114;156;31m━━━━━━━━━━━━━━━━━━━━━━━━━━━━━━━━━━━━━━━\u001b[0m \u001b[32m230.3/230.3 kB\u001b[0m \u001b[31m357.8 kB/s\u001b[0m eta \u001b[36m0:00:00\u001b[0m[36m0:00:01\u001b[0mm eta \u001b[36m0:00:01\u001b[0m\n",
      "\u001b[?25hDownloading google_cloud_bigquery_storage-2.24.0-py2.py3-none-any.whl (190 kB)\n",
      "\u001b[2K   \u001b[38;2;114;156;31m━━━━━━━━━━━━━━━━━━━━━━━━━━━━━━━━━━━━━━━\u001b[0m \u001b[32m190.6/190.6 kB\u001b[0m \u001b[31m411.5 kB/s\u001b[0m eta \u001b[36m0:00:00\u001b[0m1m404.3 kB/s\u001b[0m eta \u001b[36m0:00:01\u001b[0m\n",
      "\u001b[?25hDownloading pydata_google_auth-1.8.2-py2.py3-none-any.whl (15 kB)\n",
      "Downloading cachetools-5.3.2-py3-none-any.whl (9.3 kB)\n",
      "Downloading google_cloud_core-2.4.1-py2.py3-none-any.whl (29 kB)\n",
      "Downloading google_resumable_media-2.7.0-py2.py3-none-any.whl (80 kB)\n",
      "\u001b[2K   \u001b[38;2;114;156;31m━━━━━━━━━━━━━━━━━━━━━━━━━━━━━━━━━━━━━━━━\u001b[0m \u001b[32m80.6/80.6 kB\u001b[0m \u001b[31m180.7 kB/s\u001b[0m eta \u001b[36m0:00:00\u001b[0m kB/s\u001b[0m eta \u001b[36m0:00:01\u001b[0m\n",
      "\u001b[?25hDownloading googleapis_common_protos-1.62.0-py2.py3-none-any.whl (228 kB)\n",
      "\u001b[2K   \u001b[38;2;114;156;31m━━━━━━━━━━━━━━━━━━━━━━━━━━━━━━━━━━━━━━━\u001b[0m \u001b[32m228.7/228.7 kB\u001b[0m \u001b[31m327.3 kB/s\u001b[0m eta \u001b[36m0:00:00\u001b[0m1m313.3 kB/s\u001b[0m eta \u001b[36m0:00:01\u001b[0m\n",
      "\u001b[?25hDownloading proto_plus-1.23.0-py3-none-any.whl (48 kB)\n",
      "\u001b[2K   \u001b[38;2;114;156;31m━━━━━━━━━━━━━━━━━━━━━━━━━━━━━━━━━━━━━━━━\u001b[0m \u001b[32m48.8/48.8 kB\u001b[0m \u001b[31m420.1 kB/s\u001b[0m eta \u001b[36m0:00:00\u001b[0m kB/s\u001b[0m eta \u001b[36m0:00:01\u001b[0m\n",
      "\u001b[?25hDownloading protobuf-4.25.2-cp37-abi3-macosx_10_9_universal2.whl (394 kB)\n",
      "\u001b[2K   \u001b[38;2;114;156;31m━━━━━━━━━━━━━━━━━━━━━━━━━━━━━━━━━━━━━━━\u001b[0m \u001b[32m394.2/394.2 kB\u001b[0m \u001b[31m365.1 kB/s\u001b[0m eta \u001b[36m0:00:00\u001b[0m kB/s\u001b[0m eta \u001b[36m0:00:01\u001b[0m\n",
      "\u001b[?25hDownloading grpcio-1.60.1-cp311-cp311-macosx_10_10_universal2.whl (9.6 MB)\n",
      "\u001b[2K   \u001b[38;2;114;156;31m━━━━━━━━━━━━━━━━━━━━━━━━━━━━━━━━━━━━━━━━\u001b[0m \u001b[32m9.6/9.6 MB\u001b[0m \u001b[31m68.0 kB/s\u001b[0m eta \u001b[36m0:00:00\u001b[0mm eta \u001b[36m0:00:01\u001b[0m[36m0:00:04\u001b[0mm\n",
      "\u001b[?25hDownloading grpcio_status-1.60.1-py3-none-any.whl (14 kB)\n",
      "Using cached pyasn1-0.5.1-py2.py3-none-any.whl (84 kB)\n",
      "Installing collected packages: pyasn1, protobuf, oauthlib, grpcio, google-crc32c, cachetools, rsa, requests-oauthlib, pyasn1-modules, proto-plus, googleapis-common-protos, google-resumable-media, grpcio-status, google-auth, db-dtypes, google-auth-oauthlib, google-api-core, pydata-google-auth, google-cloud-core, google-cloud-bigquery-storage, google-cloud-bigquery, pandas_gbq\n",
      "Successfully installed cachetools-5.3.2 db-dtypes-1.2.0 google-api-core-2.17.0 google-auth-2.27.0 google-auth-oauthlib-1.2.0 google-cloud-bigquery-3.17.2 google-cloud-bigquery-storage-2.24.0 google-cloud-core-2.4.1 google-crc32c-1.5.0 google-resumable-media-2.7.0 googleapis-common-protos-1.62.0 grpcio-1.60.1 grpcio-status-1.60.1 oauthlib-3.2.2 pandas_gbq-0.21.0 proto-plus-1.23.0 protobuf-4.25.2 pyasn1-0.5.1 pyasn1-modules-0.3.0 pydata-google-auth-1.8.2 requests-oauthlib-1.3.1 rsa-4.9\n",
      "\n",
      "\u001b[1m[\u001b[0m\u001b[34;49mnotice\u001b[0m\u001b[1;39;49m]\u001b[0m\u001b[39;49m A new release of pip is available: \u001b[0m\u001b[31;49m23.3.2\u001b[0m\u001b[39;49m -> \u001b[0m\u001b[32;49m24.0\u001b[0m\n",
      "\u001b[1m[\u001b[0m\u001b[34;49mnotice\u001b[0m\u001b[1;39;49m]\u001b[0m\u001b[39;49m To update, run: \u001b[0m\u001b[32;49mpip install --upgrade pip\u001b[0m\n"
     ]
    }
   ],
   "source": [
    "!pip install pandas_gbq"
   ]
  },
  {
   "cell_type": "code",
   "execution_count": 1,
   "id": "650b3dec-0af6-44f6-b6d0-bac25027f8cc",
   "metadata": {},
   "outputs": [],
   "source": [
    "import pandas as pd\n",
    "import numpy as np\n",
    "import pandas_gbq\n",
    "import logging\n",
    "from google.oauth2 import service_account"
   ]
  },
  {
   "cell_type": "markdown",
   "id": "ac988384-2da9-4f7e-aca7-6d5a288ba90e",
   "metadata": {},
   "source": [
    "#### Read data"
   ]
  },
  {
   "cell_type": "code",
   "execution_count": 3,
   "id": "5ebb298a-a5ef-4460-ac18-6a7ec72141af",
   "metadata": {},
   "outputs": [
    {
     "name": "stdout",
     "output_type": "stream",
     "text": [
      "df merged shape is  (840402, 20)\n"
     ]
    }
   ],
   "source": [
    "def load_data(url):\n",
    "    \n",
    "        dfs = []\n",
    "        for month in range(1,13):\n",
    "            query = f'{url}-{str(month).zfill(2)}.parquet'\n",
    "            dfs.append(pd.read_parquet(query))\n",
    "        \n",
    "        df_merged = pd.concat(dfs,ignore_index=True)\n",
    "        print(\"df merged shape is \", df_merged.shape)\n",
    "        return df_merged\n",
    "\n",
    "df = load_data(\"https://d37ci6vzurychx.cloudfront.net/trip-data/green_tripdata_2022\")"
   ]
  },
  {
   "cell_type": "markdown",
   "id": "5bbfef12-30af-4cc0-83b1-b3bb0bd80368",
   "metadata": {},
   "source": [
    "#### Question 1 "
   ]
  },
  {
   "cell_type": "code",
   "execution_count": 17,
   "id": "fef40aa0-a7f4-4984-86dd-73f3f59abf1e",
   "metadata": {},
   "outputs": [
    {
     "data": {
      "text/html": [
       "<div>\n",
       "<style scoped>\n",
       "    .dataframe tbody tr th:only-of-type {\n",
       "        vertical-align: middle;\n",
       "    }\n",
       "\n",
       "    .dataframe tbody tr th {\n",
       "        vertical-align: top;\n",
       "    }\n",
       "\n",
       "    .dataframe thead th {\n",
       "        text-align: right;\n",
       "    }\n",
       "</style>\n",
       "<table border=\"1\" class=\"dataframe\">\n",
       "  <thead>\n",
       "    <tr style=\"text-align: right;\">\n",
       "      <th></th>\n",
       "      <th>VendorID</th>\n",
       "      <th>lpep_pickup_datetime</th>\n",
       "      <th>lpep_dropoff_datetime</th>\n",
       "      <th>store_and_fwd_flag</th>\n",
       "      <th>RatecodeID</th>\n",
       "      <th>PULocationID</th>\n",
       "      <th>DOLocationID</th>\n",
       "      <th>passenger_count</th>\n",
       "      <th>trip_distance</th>\n",
       "      <th>fare_amount</th>\n",
       "      <th>extra</th>\n",
       "      <th>mta_tax</th>\n",
       "      <th>tip_amount</th>\n",
       "      <th>tolls_amount</th>\n",
       "      <th>ehail_fee</th>\n",
       "      <th>improvement_surcharge</th>\n",
       "      <th>total_amount</th>\n",
       "      <th>payment_type</th>\n",
       "      <th>trip_type</th>\n",
       "      <th>congestion_surcharge</th>\n",
       "    </tr>\n",
       "  </thead>\n",
       "  <tbody>\n",
       "    <tr>\n",
       "      <th>0</th>\n",
       "      <td>2</td>\n",
       "      <td>2022-01-01 00:14:21</td>\n",
       "      <td>2022-01-01 00:15:33</td>\n",
       "      <td>N</td>\n",
       "      <td>1.0</td>\n",
       "      <td>42</td>\n",
       "      <td>42</td>\n",
       "      <td>1.0</td>\n",
       "      <td>0.44</td>\n",
       "      <td>3.5</td>\n",
       "      <td>0.50</td>\n",
       "      <td>0.5</td>\n",
       "      <td>0.00</td>\n",
       "      <td>0.0</td>\n",
       "      <td>None</td>\n",
       "      <td>0.3</td>\n",
       "      <td>4.80</td>\n",
       "      <td>2.0</td>\n",
       "      <td>1.0</td>\n",
       "      <td>0.00</td>\n",
       "    </tr>\n",
       "    <tr>\n",
       "      <th>1</th>\n",
       "      <td>1</td>\n",
       "      <td>2022-01-01 00:20:55</td>\n",
       "      <td>2022-01-01 00:29:38</td>\n",
       "      <td>N</td>\n",
       "      <td>1.0</td>\n",
       "      <td>116</td>\n",
       "      <td>41</td>\n",
       "      <td>1.0</td>\n",
       "      <td>2.10</td>\n",
       "      <td>9.5</td>\n",
       "      <td>0.50</td>\n",
       "      <td>0.5</td>\n",
       "      <td>0.00</td>\n",
       "      <td>0.0</td>\n",
       "      <td>None</td>\n",
       "      <td>0.3</td>\n",
       "      <td>10.80</td>\n",
       "      <td>2.0</td>\n",
       "      <td>1.0</td>\n",
       "      <td>0.00</td>\n",
       "    </tr>\n",
       "    <tr>\n",
       "      <th>2</th>\n",
       "      <td>1</td>\n",
       "      <td>2022-01-01 00:57:02</td>\n",
       "      <td>2022-01-01 01:13:14</td>\n",
       "      <td>N</td>\n",
       "      <td>1.0</td>\n",
       "      <td>41</td>\n",
       "      <td>140</td>\n",
       "      <td>1.0</td>\n",
       "      <td>3.70</td>\n",
       "      <td>14.5</td>\n",
       "      <td>3.25</td>\n",
       "      <td>0.5</td>\n",
       "      <td>4.60</td>\n",
       "      <td>0.0</td>\n",
       "      <td>None</td>\n",
       "      <td>0.3</td>\n",
       "      <td>23.15</td>\n",
       "      <td>1.0</td>\n",
       "      <td>1.0</td>\n",
       "      <td>2.75</td>\n",
       "    </tr>\n",
       "    <tr>\n",
       "      <th>3</th>\n",
       "      <td>2</td>\n",
       "      <td>2022-01-01 00:07:42</td>\n",
       "      <td>2022-01-01 00:15:57</td>\n",
       "      <td>N</td>\n",
       "      <td>1.0</td>\n",
       "      <td>181</td>\n",
       "      <td>181</td>\n",
       "      <td>1.0</td>\n",
       "      <td>1.69</td>\n",
       "      <td>8.0</td>\n",
       "      <td>0.50</td>\n",
       "      <td>0.5</td>\n",
       "      <td>0.00</td>\n",
       "      <td>0.0</td>\n",
       "      <td>None</td>\n",
       "      <td>0.3</td>\n",
       "      <td>9.30</td>\n",
       "      <td>2.0</td>\n",
       "      <td>1.0</td>\n",
       "      <td>0.00</td>\n",
       "    </tr>\n",
       "    <tr>\n",
       "      <th>4</th>\n",
       "      <td>2</td>\n",
       "      <td>2022-01-01 00:07:50</td>\n",
       "      <td>2022-01-01 00:28:52</td>\n",
       "      <td>N</td>\n",
       "      <td>1.0</td>\n",
       "      <td>33</td>\n",
       "      <td>170</td>\n",
       "      <td>1.0</td>\n",
       "      <td>6.26</td>\n",
       "      <td>22.0</td>\n",
       "      <td>0.50</td>\n",
       "      <td>0.5</td>\n",
       "      <td>5.21</td>\n",
       "      <td>0.0</td>\n",
       "      <td>None</td>\n",
       "      <td>0.3</td>\n",
       "      <td>31.26</td>\n",
       "      <td>1.0</td>\n",
       "      <td>1.0</td>\n",
       "      <td>2.75</td>\n",
       "    </tr>\n",
       "  </tbody>\n",
       "</table>\n",
       "</div>"
      ],
      "text/plain": [
       "   VendorID lpep_pickup_datetime lpep_dropoff_datetime store_and_fwd_flag  \\\n",
       "0         2  2022-01-01 00:14:21   2022-01-01 00:15:33                  N   \n",
       "1         1  2022-01-01 00:20:55   2022-01-01 00:29:38                  N   \n",
       "2         1  2022-01-01 00:57:02   2022-01-01 01:13:14                  N   \n",
       "3         2  2022-01-01 00:07:42   2022-01-01 00:15:57                  N   \n",
       "4         2  2022-01-01 00:07:50   2022-01-01 00:28:52                  N   \n",
       "\n",
       "   RatecodeID  PULocationID  DOLocationID  passenger_count  trip_distance  \\\n",
       "0         1.0            42            42              1.0           0.44   \n",
       "1         1.0           116            41              1.0           2.10   \n",
       "2         1.0            41           140              1.0           3.70   \n",
       "3         1.0           181           181              1.0           1.69   \n",
       "4         1.0            33           170              1.0           6.26   \n",
       "\n",
       "   fare_amount  extra  mta_tax  tip_amount  tolls_amount ehail_fee  \\\n",
       "0          3.5   0.50      0.5        0.00           0.0      None   \n",
       "1          9.5   0.50      0.5        0.00           0.0      None   \n",
       "2         14.5   3.25      0.5        4.60           0.0      None   \n",
       "3          8.0   0.50      0.5        0.00           0.0      None   \n",
       "4         22.0   0.50      0.5        5.21           0.0      None   \n",
       "\n",
       "   improvement_surcharge  total_amount  payment_type  trip_type  \\\n",
       "0                    0.3          4.80           2.0        1.0   \n",
       "1                    0.3         10.80           2.0        1.0   \n",
       "2                    0.3         23.15           1.0        1.0   \n",
       "3                    0.3          9.30           2.0        1.0   \n",
       "4                    0.3         31.26           1.0        1.0   \n",
       "\n",
       "   congestion_surcharge  \n",
       "0                  0.00  \n",
       "1                  0.00  \n",
       "2                  2.75  \n",
       "3                  0.00  \n",
       "4                  2.75  "
      ]
     },
     "execution_count": 17,
     "metadata": {},
     "output_type": "execute_result"
    }
   ],
   "source": [
    "df.head()"
   ]
  },
  {
   "cell_type": "code",
   "execution_count": 5,
   "id": "24656750-e75e-4519-ba23-6bdcc095f72f",
   "metadata": {},
   "outputs": [
    {
     "name": "stdout",
     "output_type": "stream",
     "text": [
      "data size is 840402\n"
     ]
    }
   ],
   "source": [
    "print(\"data size is\",df.shape[0])"
   ]
  },
  {
   "cell_type": "markdown",
   "id": "3cb0d109-ec44-4eb3-9a06-dab22cc8e6de",
   "metadata": {},
   "source": [
    "#### Question 2"
   ]
  },
  {
   "cell_type": "code",
   "execution_count": null,
   "id": "803ee3c0-10e6-4312-83a4-7da8f0a5d648",
   "metadata": {},
   "outputs": [
    {
     "name": "stderr",
     "output_type": "stream",
     "text": [
      "/Users/serge-nd/PycharmProjects/Data engineering/lab/.venv/lib/python3.11/site-packages/pandas_gbq/gbq.py:1031: FutureWarning: verbose is deprecated and will be removed in a future version. Set logging level in order to vary verbosity\n",
      "  warnings.warn(\n"
     ]
    }
   ],
   "source": [
    "credentials = service_account.Credentials.from_service_account_file(\n",
    "    '../keys/gcp-service.json',\n",
    ")\n",
    "# TODO: Set project_id to your Google Cloud Platform project ID.\n",
    "project_id = \"data-engineering-course-412921\"\n",
    "\n",
    "# TODO: Set table_id to the full destination table ID (including the\n",
    "#       dataset ID).\n",
    "table_id = 'data-engineering-course-412921.green_taxi_nyc_2022.data'\n",
    "\n",
    "\n",
    "pandas_gbq.to_gbq(df, destination_table=table_id,credentials=credentials, if_exists=\"replace\", verbose=True)"
   ]
  },
  {
   "cell_type": "markdown",
   "id": "4b08514b-ee3f-4d8d-ba13-011c7baa7c7e",
   "metadata": {},
   "source": [
    "#### Question 3"
   ]
  },
  {
   "cell_type": "code",
   "execution_count": 40,
   "id": "f6a54166-a6b8-40d4-b31e-a8fb9c472286",
   "metadata": {},
   "outputs": [
    {
     "name": "stdout",
     "output_type": "stream",
     "text": [
      "<class 'pandas.core.frame.DataFrame'>\n",
      "RangeIndex: 840402 entries, 0 to 840401\n",
      "Data columns (total 20 columns):\n",
      " #   Column                 Non-Null Count   Dtype         \n",
      "---  ------                 --------------   -----         \n",
      " 0   VendorID               840402 non-null  int64         \n",
      " 1   lpep_pickup_datetime   840402 non-null  datetime64[us]\n",
      " 2   lpep_dropoff_datetime  840402 non-null  datetime64[us]\n",
      " 3   store_and_fwd_flag     750062 non-null  object        \n",
      " 4   RatecodeID             750062 non-null  float64       \n",
      " 5   PULocationID           840402 non-null  int64         \n",
      " 6   DOLocationID           840402 non-null  int64         \n",
      " 7   passenger_count        750062 non-null  float64       \n",
      " 8   trip_distance          840402 non-null  float64       \n",
      " 9   fare_amount            840402 non-null  float64       \n",
      " 10  extra                  840402 non-null  float64       \n",
      " 11  mta_tax                840402 non-null  float64       \n",
      " 12  tip_amount             840402 non-null  float64       \n",
      " 13  tolls_amount           840402 non-null  float64       \n",
      " 14  ehail_fee              0 non-null       object        \n",
      " 15  improvement_surcharge  840402 non-null  float64       \n",
      " 16  total_amount           840402 non-null  float64       \n",
      " 17  payment_type           750062 non-null  float64       \n",
      " 18  trip_type              750047 non-null  float64       \n",
      " 19  congestion_surcharge   750062 non-null  float64       \n",
      "dtypes: datetime64[us](2), float64(13), int64(3), object(2)\n",
      "memory usage: 128.2+ MB\n"
     ]
    }
   ],
   "source": [
    "df.info()"
   ]
  },
  {
   "cell_type": "code",
   "execution_count": 7,
   "id": "71dd89e2-5b00-428a-9e02-051561f45743",
   "metadata": {},
   "outputs": [
    {
     "name": "stdout",
     "output_type": "stream",
     "text": [
      "Number of data with fare_amount is 0:  1622\n"
     ]
    }
   ],
   "source": [
    "print(\"Number of data with fare_amount is 0: \", df[df[\"fare_amount\"].isin([0])].shape[0])"
   ]
  },
  {
   "cell_type": "code",
   "execution_count": null,
   "id": "5824f856-323b-4a78-93ce-633585718314",
   "metadata": {},
   "outputs": [],
   "source": []
  }
 ],
 "metadata": {
  "kernelspec": {
   "display_name": "Python 3 (ipykernel)",
   "language": "python",
   "name": "python3"
  },
  "language_info": {
   "codemirror_mode": {
    "name": "ipython",
    "version": 3
   },
   "file_extension": ".py",
   "mimetype": "text/x-python",
   "name": "python",
   "nbconvert_exporter": "python",
   "pygments_lexer": "ipython3",
   "version": "3.11.6"
  }
 },
 "nbformat": 4,
 "nbformat_minor": 5
}
