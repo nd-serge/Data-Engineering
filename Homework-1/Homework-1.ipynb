{
 "cells": [
  {
   "cell_type": "markdown",
   "id": "d8a97eaf-44e4-4e42-8c61-b1e4af3de391",
   "metadata": {},
   "source": [
    "### Imports"
   ]
  },
  {
   "cell_type": "code",
   "execution_count": 7,
   "id": "10d05b2e-4c9a-41eb-a5c6-8b0a98fc2a40",
   "metadata": {},
   "outputs": [],
   "source": [
    "import pandas as pd\n",
    "import numpy as np"
   ]
  },
  {
   "cell_type": "markdown",
   "id": "e8050327-8a22-4634-97a8-2823ac5d179e",
   "metadata": {},
   "source": [
    "### Read Data"
   ]
  },
  {
   "cell_type": "code",
   "execution_count": 32,
   "id": "f9c826ce-04ca-4887-a163-98e564cdec4c",
   "metadata": {},
   "outputs": [],
   "source": [
    "TAXI_DATA = \"data/green_tripdata_2019-09.csv\"\n",
    "ZONES = \"data/taxi+_zone_lookup.csv\""
   ]
  },
  {
   "cell_type": "code",
   "execution_count": 9,
   "id": "799027d9-a002-428f-90c7-35641dc047ba",
   "metadata": {},
   "outputs": [
    {
     "name": "stderr",
     "output_type": "stream",
     "text": [
      "/var/folders/q0/tlxqcyzj4bl5486b7j7s6ymw0000gn/T/ipykernel_61038/1008615804.py:1: DtypeWarning: Columns (3) have mixed types. Specify dtype option on import or set low_memory=False.\n",
      "  df = pd.read_csv(TAXI_DATA)\n"
     ]
    }
   ],
   "source": [
    "df = pd.read_csv(TAXI_DATA)"
   ]
  },
  {
   "cell_type": "code",
   "execution_count": 10,
   "id": "897f682b-21b0-4d5b-ab0b-d21fcddaf392",
   "metadata": {},
   "outputs": [
    {
     "data": {
      "text/html": [
       "<div>\n",
       "<style scoped>\n",
       "    .dataframe tbody tr th:only-of-type {\n",
       "        vertical-align: middle;\n",
       "    }\n",
       "\n",
       "    .dataframe tbody tr th {\n",
       "        vertical-align: top;\n",
       "    }\n",
       "\n",
       "    .dataframe thead th {\n",
       "        text-align: right;\n",
       "    }\n",
       "</style>\n",
       "<table border=\"1\" class=\"dataframe\">\n",
       "  <thead>\n",
       "    <tr style=\"text-align: right;\">\n",
       "      <th></th>\n",
       "      <th>VendorID</th>\n",
       "      <th>lpep_pickup_datetime</th>\n",
       "      <th>lpep_dropoff_datetime</th>\n",
       "      <th>store_and_fwd_flag</th>\n",
       "      <th>RatecodeID</th>\n",
       "      <th>PULocationID</th>\n",
       "      <th>DOLocationID</th>\n",
       "      <th>passenger_count</th>\n",
       "      <th>trip_distance</th>\n",
       "      <th>fare_amount</th>\n",
       "      <th>extra</th>\n",
       "      <th>mta_tax</th>\n",
       "      <th>tip_amount</th>\n",
       "      <th>tolls_amount</th>\n",
       "      <th>ehail_fee</th>\n",
       "      <th>improvement_surcharge</th>\n",
       "      <th>total_amount</th>\n",
       "      <th>payment_type</th>\n",
       "      <th>trip_type</th>\n",
       "      <th>congestion_surcharge</th>\n",
       "    </tr>\n",
       "  </thead>\n",
       "  <tbody>\n",
       "    <tr>\n",
       "      <th>0</th>\n",
       "      <td>2.0</td>\n",
       "      <td>2019-09-01 00:10:53</td>\n",
       "      <td>2019-09-01 00:23:46</td>\n",
       "      <td>N</td>\n",
       "      <td>1.0</td>\n",
       "      <td>65</td>\n",
       "      <td>189</td>\n",
       "      <td>5.0</td>\n",
       "      <td>2.00</td>\n",
       "      <td>10.5</td>\n",
       "      <td>0.5</td>\n",
       "      <td>0.5</td>\n",
       "      <td>2.36</td>\n",
       "      <td>0.0</td>\n",
       "      <td>NaN</td>\n",
       "      <td>0.3</td>\n",
       "      <td>14.16</td>\n",
       "      <td>1.0</td>\n",
       "      <td>1.0</td>\n",
       "      <td>0.0</td>\n",
       "    </tr>\n",
       "    <tr>\n",
       "      <th>1</th>\n",
       "      <td>2.0</td>\n",
       "      <td>2019-09-01 00:31:22</td>\n",
       "      <td>2019-09-01 00:44:37</td>\n",
       "      <td>N</td>\n",
       "      <td>1.0</td>\n",
       "      <td>97</td>\n",
       "      <td>225</td>\n",
       "      <td>5.0</td>\n",
       "      <td>3.20</td>\n",
       "      <td>12.0</td>\n",
       "      <td>0.5</td>\n",
       "      <td>0.5</td>\n",
       "      <td>0.00</td>\n",
       "      <td>0.0</td>\n",
       "      <td>NaN</td>\n",
       "      <td>0.3</td>\n",
       "      <td>13.30</td>\n",
       "      <td>2.0</td>\n",
       "      <td>1.0</td>\n",
       "      <td>0.0</td>\n",
       "    </tr>\n",
       "    <tr>\n",
       "      <th>2</th>\n",
       "      <td>2.0</td>\n",
       "      <td>2019-09-01 00:50:24</td>\n",
       "      <td>2019-09-01 01:03:20</td>\n",
       "      <td>N</td>\n",
       "      <td>1.0</td>\n",
       "      <td>37</td>\n",
       "      <td>61</td>\n",
       "      <td>5.0</td>\n",
       "      <td>2.99</td>\n",
       "      <td>12.0</td>\n",
       "      <td>0.5</td>\n",
       "      <td>0.5</td>\n",
       "      <td>0.00</td>\n",
       "      <td>0.0</td>\n",
       "      <td>NaN</td>\n",
       "      <td>0.3</td>\n",
       "      <td>13.30</td>\n",
       "      <td>2.0</td>\n",
       "      <td>1.0</td>\n",
       "      <td>0.0</td>\n",
       "    </tr>\n",
       "    <tr>\n",
       "      <th>3</th>\n",
       "      <td>2.0</td>\n",
       "      <td>2019-09-01 00:27:06</td>\n",
       "      <td>2019-09-01 00:33:22</td>\n",
       "      <td>N</td>\n",
       "      <td>1.0</td>\n",
       "      <td>145</td>\n",
       "      <td>112</td>\n",
       "      <td>1.0</td>\n",
       "      <td>1.73</td>\n",
       "      <td>7.5</td>\n",
       "      <td>0.5</td>\n",
       "      <td>0.5</td>\n",
       "      <td>1.50</td>\n",
       "      <td>0.0</td>\n",
       "      <td>NaN</td>\n",
       "      <td>0.3</td>\n",
       "      <td>10.30</td>\n",
       "      <td>1.0</td>\n",
       "      <td>1.0</td>\n",
       "      <td>0.0</td>\n",
       "    </tr>\n",
       "    <tr>\n",
       "      <th>4</th>\n",
       "      <td>2.0</td>\n",
       "      <td>2019-09-01 00:43:23</td>\n",
       "      <td>2019-09-01 00:59:54</td>\n",
       "      <td>N</td>\n",
       "      <td>1.0</td>\n",
       "      <td>112</td>\n",
       "      <td>198</td>\n",
       "      <td>1.0</td>\n",
       "      <td>3.42</td>\n",
       "      <td>14.0</td>\n",
       "      <td>0.5</td>\n",
       "      <td>0.5</td>\n",
       "      <td>3.06</td>\n",
       "      <td>0.0</td>\n",
       "      <td>NaN</td>\n",
       "      <td>0.3</td>\n",
       "      <td>18.36</td>\n",
       "      <td>1.0</td>\n",
       "      <td>1.0</td>\n",
       "      <td>0.0</td>\n",
       "    </tr>\n",
       "  </tbody>\n",
       "</table>\n",
       "</div>"
      ],
      "text/plain": [
       "   VendorID lpep_pickup_datetime lpep_dropoff_datetime store_and_fwd_flag  \\\n",
       "0       2.0  2019-09-01 00:10:53   2019-09-01 00:23:46                  N   \n",
       "1       2.0  2019-09-01 00:31:22   2019-09-01 00:44:37                  N   \n",
       "2       2.0  2019-09-01 00:50:24   2019-09-01 01:03:20                  N   \n",
       "3       2.0  2019-09-01 00:27:06   2019-09-01 00:33:22                  N   \n",
       "4       2.0  2019-09-01 00:43:23   2019-09-01 00:59:54                  N   \n",
       "\n",
       "   RatecodeID  PULocationID  DOLocationID  passenger_count  trip_distance  \\\n",
       "0         1.0            65           189              5.0           2.00   \n",
       "1         1.0            97           225              5.0           3.20   \n",
       "2         1.0            37            61              5.0           2.99   \n",
       "3         1.0           145           112              1.0           1.73   \n",
       "4         1.0           112           198              1.0           3.42   \n",
       "\n",
       "   fare_amount  extra  mta_tax  tip_amount  tolls_amount  ehail_fee  \\\n",
       "0         10.5    0.5      0.5        2.36           0.0        NaN   \n",
       "1         12.0    0.5      0.5        0.00           0.0        NaN   \n",
       "2         12.0    0.5      0.5        0.00           0.0        NaN   \n",
       "3          7.5    0.5      0.5        1.50           0.0        NaN   \n",
       "4         14.0    0.5      0.5        3.06           0.0        NaN   \n",
       "\n",
       "   improvement_surcharge  total_amount  payment_type  trip_type  \\\n",
       "0                    0.3         14.16           1.0        1.0   \n",
       "1                    0.3         13.30           2.0        1.0   \n",
       "2                    0.3         13.30           2.0        1.0   \n",
       "3                    0.3         10.30           1.0        1.0   \n",
       "4                    0.3         18.36           1.0        1.0   \n",
       "\n",
       "   congestion_surcharge  \n",
       "0                   0.0  \n",
       "1                   0.0  \n",
       "2                   0.0  \n",
       "3                   0.0  \n",
       "4                   0.0  "
      ]
     },
     "execution_count": 10,
     "metadata": {},
     "output_type": "execute_result"
    }
   ],
   "source": [
    "df.head()"
   ]
  },
  {
   "cell_type": "code",
   "execution_count": 89,
   "id": "584ad249-5058-4269-9dd4-78db3c28d979",
   "metadata": {},
   "outputs": [
    {
     "data": {
      "text/plain": [
       "Index(['VendorID', 'lpep_pickup_datetime', 'lpep_dropoff_datetime',\n",
       "       'store_and_fwd_flag', 'RatecodeID', 'PULocationID', 'DOLocationID',\n",
       "       'passenger_count', 'trip_distance', 'fare_amount', 'extra', 'mta_tax',\n",
       "       'tip_amount', 'tolls_amount', 'ehail_fee', 'improvement_surcharge',\n",
       "       'total_amount', 'payment_type', 'trip_type', 'congestion_surcharge'],\n",
       "      dtype='object')"
      ]
     },
     "execution_count": 89,
     "metadata": {},
     "output_type": "execute_result"
    }
   ],
   "source": [
    "df.columns"
   ]
  },
  {
   "cell_type": "markdown",
   "id": "eacf5e58-c30c-4faa-ac7b-99383642111c",
   "metadata": {},
   "source": [
    "### Transform to datetime"
   ]
  },
  {
   "cell_type": "code",
   "execution_count": 11,
   "id": "84d7677c-a6fe-4cca-9e60-10eb2e8133df",
   "metadata": {},
   "outputs": [],
   "source": [
    "df[\"lpep_pickup_datetime\"] = pd.to_datetime(df[\"lpep_pickup_datetime\"])\n",
    "df[\"lpep_dropoff_datetime\"] = pd.to_datetime(df[\"lpep_dropoff_datetime\"])"
   ]
  },
  {
   "cell_type": "markdown",
   "id": "63c94192-3702-4fe6-8072-4e65b6402194",
   "metadata": {},
   "source": [
    "### Question 3 \n",
    "\n",
    "** *How many taxi trips were totally made on September 18th 2019?* **"
   ]
  },
  {
   "cell_type": "code",
   "execution_count": 22,
   "id": "4f8061da-7d13-48ef-aeac-1571726c5a47",
   "metadata": {},
   "outputs": [],
   "source": [
    "new_df= df.loc[(df[\"lpep_pickup_datetime\"] >= pd.to_datetime(\"2019-09-18\")) & (df[\"lpep_dropoff_datetime\"] < pd.to_datetime(\"2019-09-19\"))]"
   ]
  },
  {
   "cell_type": "code",
   "execution_count": 14,
   "id": "f157a9d7-291d-4c15-9634-3a69179e6c0f",
   "metadata": {},
   "outputs": [
    {
     "name": "stdout",
     "output_type": "stream",
     "text": [
      "The number of taxi trips were totally made on September 18th 2019 is : 15612\n"
     ]
    }
   ],
   "source": [
    "print(f\"The number of taxi trips were totally made on September 18th 2019 is : {new_df_1.shape[0]}\")"
   ]
  },
  {
   "cell_type": "markdown",
   "id": "bd9f6933-273f-43a7-b3ef-f43a5a14a437",
   "metadata": {},
   "source": [
    "### Question 4\n",
    "\n",
    "** *Which was the pick up day with the largest trip distance Use the pick up time for your calculations.* **"
   ]
  },
  {
   "cell_type": "code",
   "execution_count": 15,
   "id": "f488a2a0-3fad-4e56-88c9-244088da6b21",
   "metadata": {},
   "outputs": [],
   "source": [
    "days = [\n",
    "    \"2019-09-18\",\n",
    "    \"2019-09-16\",\n",
    "    \"2019-09-26\",\n",
    "    \"2019-09-21\"\n",
    "]"
   ]
  },
  {
   "cell_type": "code",
   "execution_count": 140,
   "id": "425b5d7a-10bb-448e-b294-cd2eae8e3f34",
   "metadata": {},
   "outputs": [
    {
     "name": "stdout",
     "output_type": "stream",
     "text": [
      "day : 2019-09-18, trip distance : 70.28\n",
      "day : 2019-09-16, trip distance : 114.3\n",
      "day : 2019-09-26, trip distance : 35.62\n",
      "day : 2019-09-21, trip distance : 135.53\n"
     ]
    }
   ],
   "source": [
    "for day in days:\n",
    "    this_day = pd.to_datetime(day)\n",
    "    next_day = this_day + pd.DateOffset(days=1)\n",
    "    new_df_1 = df.loc[(df[\"lpep_pickup_datetime\"] >= this_day) & (df[\"lpep_dropoff_datetime\"] <  next_day)]\n",
    "    trip_distance_per_day = new_df_1.loc[new_df_1[\"trip_distance\"].idxmax()][\"trip_distance\"]\n",
    "    print(f\"day : {day}, trip distance : {trip_distance_per_day}\")"
   ]
  },
  {
   "cell_type": "markdown",
   "id": "d56f9dea-dfc2-44d8-9474-3d9e83c65d04",
   "metadata": {},
   "source": [
    "### Question 5\n",
    "\n",
    "** *Which were the 3 pick up Boroughs that had a sum of total_amount superior to 50000?* **"
   ]
  },
  {
   "cell_type": "code",
   "execution_count": 59,
   "id": "eda50220-2a84-4c28-bbec-fe85cd863a1c",
   "metadata": {},
   "outputs": [
    {
     "data": {
      "text/html": [
       "<div>\n",
       "<style scoped>\n",
       "    .dataframe tbody tr th:only-of-type {\n",
       "        vertical-align: middle;\n",
       "    }\n",
       "\n",
       "    .dataframe tbody tr th {\n",
       "        vertical-align: top;\n",
       "    }\n",
       "\n",
       "    .dataframe thead th {\n",
       "        text-align: right;\n",
       "    }\n",
       "</style>\n",
       "<table border=\"1\" class=\"dataframe\">\n",
       "  <thead>\n",
       "    <tr style=\"text-align: right;\">\n",
       "      <th></th>\n",
       "      <th>LocationID</th>\n",
       "      <th>Borough</th>\n",
       "      <th>Zone</th>\n",
       "      <th>service_zone</th>\n",
       "    </tr>\n",
       "  </thead>\n",
       "  <tbody>\n",
       "    <tr>\n",
       "      <th>0</th>\n",
       "      <td>1</td>\n",
       "      <td>EWR</td>\n",
       "      <td>Newark Airport</td>\n",
       "      <td>EWR</td>\n",
       "    </tr>\n",
       "    <tr>\n",
       "      <th>1</th>\n",
       "      <td>2</td>\n",
       "      <td>Queens</td>\n",
       "      <td>Jamaica Bay</td>\n",
       "      <td>Boro Zone</td>\n",
       "    </tr>\n",
       "    <tr>\n",
       "      <th>2</th>\n",
       "      <td>3</td>\n",
       "      <td>Bronx</td>\n",
       "      <td>Allerton/Pelham Gardens</td>\n",
       "      <td>Boro Zone</td>\n",
       "    </tr>\n",
       "    <tr>\n",
       "      <th>3</th>\n",
       "      <td>4</td>\n",
       "      <td>Manhattan</td>\n",
       "      <td>Alphabet City</td>\n",
       "      <td>Yellow Zone</td>\n",
       "    </tr>\n",
       "    <tr>\n",
       "      <th>4</th>\n",
       "      <td>5</td>\n",
       "      <td>Staten Island</td>\n",
       "      <td>Arden Heights</td>\n",
       "      <td>Boro Zone</td>\n",
       "    </tr>\n",
       "  </tbody>\n",
       "</table>\n",
       "</div>"
      ],
      "text/plain": [
       "   LocationID        Borough                     Zone service_zone\n",
       "0           1            EWR           Newark Airport          EWR\n",
       "1           2         Queens              Jamaica Bay    Boro Zone\n",
       "2           3          Bronx  Allerton/Pelham Gardens    Boro Zone\n",
       "3           4      Manhattan            Alphabet City  Yellow Zone\n",
       "4           5  Staten Island            Arden Heights    Boro Zone"
      ]
     },
     "execution_count": 59,
     "metadata": {},
     "output_type": "execute_result"
    }
   ],
   "source": [
    "df_2 = pd.read_csv(ZONES)\n",
    "df_2.head()"
   ]
  },
  {
   "cell_type": "code",
   "execution_count": 51,
   "id": "abefac62-fe59-4339-8fa5-b2132a761742",
   "metadata": {},
   "outputs": [],
   "source": [
    "newbee = df[df['lpep_pickup_datetime'].dt.date == pd.to_datetime('2019-09-18').date()]"
   ]
  },
  {
   "cell_type": "code",
   "execution_count": 61,
   "id": "070b9111-4560-4d89-ba43-15fc7880dbf2",
   "metadata": {},
   "outputs": [],
   "source": [
    "result = pd.merge(newbee, df_2, left_on=\"PULocationID\", right_on=\"LocationID\")"
   ]
  },
  {
   "cell_type": "code",
   "execution_count": 66,
   "id": "9e008775-7316-47da-bee7-3dc3e4ebc0e7",
   "metadata": {},
   "outputs": [],
   "source": [
    "res = result[[\"PULocationID\", \"total_amount\", \"Borough\"]]"
   ]
  },
  {
   "cell_type": "code",
   "execution_count": 74,
   "id": "f431fc5c-a379-42a5-80f6-f3462f2237db",
   "metadata": {},
   "outputs": [],
   "source": [
    "grouped_df = result.groupby(\"Borough\")[\"total_amount\"].sum()"
   ]
  },
  {
   "cell_type": "code",
   "execution_count": 77,
   "id": "3ddabb59-8199-43b2-80c3-40105744f9b7",
   "metadata": {},
   "outputs": [
    {
     "name": "stdout",
     "output_type": "stream",
     "text": [
      "The top 3 pick up Borough with a total amount > 50000\n"
     ]
    },
    {
     "data": {
      "text/plain": [
       "Borough\n",
       "Brooklyn     96333.24\n",
       "Manhattan    92271.30\n",
       "Queens       78671.71\n",
       "Name: total_amount, dtype: float64"
      ]
     },
     "execution_count": 77,
     "metadata": {},
     "output_type": "execute_result"
    }
   ],
   "source": [
    "print(\"The top 3 pick up Borough with a total amount > 50000\")\n",
    "grouped_df[grouped_df>50000]"
   ]
  },
  {
   "cell_type": "markdown",
   "id": "6c1ab7eb-1b40-44e0-ba34-68945ed301a3",
   "metadata": {},
   "source": [
    "### Question 6\n",
    "\n",
    "** *For the passengers picked up in September 2019 in the zone name Astoria which was the drop off zone that had the largest tip? We want the name of the zone, not the id.* **"
   ]
  },
  {
   "cell_type": "code",
   "execution_count": 113,
   "id": "1ebdb8ad-dd0f-4e14-bed9-1cd73cfdaaf8",
   "metadata": {},
   "outputs": [],
   "source": [
    "new_df_2 = df[(df['lpep_pickup_datetime'].dt.month == 9) & (df['lpep_pickup_datetime'].dt.year == 2019)]\n",
    "result = pd.merge(new_df_2, df_2, left_on=\"PULocationID\", right_on=\"LocationID\")"
   ]
  },
  {
   "cell_type": "code",
   "execution_count": 129,
   "id": "d530da20-4eb5-431f-a493-7bfde425dd07",
   "metadata": {},
   "outputs": [
    {
     "data": {
      "text/html": [
       "<div>\n",
       "<style scoped>\n",
       "    .dataframe tbody tr th:only-of-type {\n",
       "        vertical-align: middle;\n",
       "    }\n",
       "\n",
       "    .dataframe tbody tr th {\n",
       "        vertical-align: top;\n",
       "    }\n",
       "\n",
       "    .dataframe thead th {\n",
       "        text-align: right;\n",
       "    }\n",
       "</style>\n",
       "<table border=\"1\" class=\"dataframe\">\n",
       "  <thead>\n",
       "    <tr style=\"text-align: right;\">\n",
       "      <th></th>\n",
       "      <th>VendorID</th>\n",
       "      <th>lpep_pickup_datetime</th>\n",
       "      <th>lpep_dropoff_datetime</th>\n",
       "      <th>store_and_fwd_flag</th>\n",
       "      <th>RatecodeID</th>\n",
       "      <th>PULocationID</th>\n",
       "      <th>DOLocationID</th>\n",
       "      <th>passenger_count</th>\n",
       "      <th>trip_distance</th>\n",
       "      <th>fare_amount</th>\n",
       "      <th>extra</th>\n",
       "      <th>mta_tax</th>\n",
       "      <th>tip_amount</th>\n",
       "      <th>tolls_amount</th>\n",
       "      <th>ehail_fee</th>\n",
       "      <th>improvement_surcharge</th>\n",
       "      <th>total_amount</th>\n",
       "      <th>payment_type</th>\n",
       "      <th>trip_type</th>\n",
       "      <th>congestion_surcharge</th>\n",
       "    </tr>\n",
       "  </thead>\n",
       "  <tbody>\n",
       "    <tr>\n",
       "      <th>0</th>\n",
       "      <td>2.0</td>\n",
       "      <td>2019-09-01 00:10:53</td>\n",
       "      <td>2019-09-01 00:23:46</td>\n",
       "      <td>N</td>\n",
       "      <td>1.0</td>\n",
       "      <td>65</td>\n",
       "      <td>189</td>\n",
       "      <td>5.0</td>\n",
       "      <td>2.00</td>\n",
       "      <td>10.5</td>\n",
       "      <td>0.5</td>\n",
       "      <td>0.5</td>\n",
       "      <td>2.36</td>\n",
       "      <td>0.0</td>\n",
       "      <td>NaN</td>\n",
       "      <td>0.3</td>\n",
       "      <td>14.16</td>\n",
       "      <td>1.0</td>\n",
       "      <td>1.0</td>\n",
       "      <td>0.0</td>\n",
       "    </tr>\n",
       "    <tr>\n",
       "      <th>1</th>\n",
       "      <td>2.0</td>\n",
       "      <td>2019-09-01 00:31:22</td>\n",
       "      <td>2019-09-01 00:44:37</td>\n",
       "      <td>N</td>\n",
       "      <td>1.0</td>\n",
       "      <td>97</td>\n",
       "      <td>225</td>\n",
       "      <td>5.0</td>\n",
       "      <td>3.20</td>\n",
       "      <td>12.0</td>\n",
       "      <td>0.5</td>\n",
       "      <td>0.5</td>\n",
       "      <td>0.00</td>\n",
       "      <td>0.0</td>\n",
       "      <td>NaN</td>\n",
       "      <td>0.3</td>\n",
       "      <td>13.30</td>\n",
       "      <td>2.0</td>\n",
       "      <td>1.0</td>\n",
       "      <td>0.0</td>\n",
       "    </tr>\n",
       "    <tr>\n",
       "      <th>2</th>\n",
       "      <td>2.0</td>\n",
       "      <td>2019-09-01 00:50:24</td>\n",
       "      <td>2019-09-01 01:03:20</td>\n",
       "      <td>N</td>\n",
       "      <td>1.0</td>\n",
       "      <td>37</td>\n",
       "      <td>61</td>\n",
       "      <td>5.0</td>\n",
       "      <td>2.99</td>\n",
       "      <td>12.0</td>\n",
       "      <td>0.5</td>\n",
       "      <td>0.5</td>\n",
       "      <td>0.00</td>\n",
       "      <td>0.0</td>\n",
       "      <td>NaN</td>\n",
       "      <td>0.3</td>\n",
       "      <td>13.30</td>\n",
       "      <td>2.0</td>\n",
       "      <td>1.0</td>\n",
       "      <td>0.0</td>\n",
       "    </tr>\n",
       "    <tr>\n",
       "      <th>3</th>\n",
       "      <td>2.0</td>\n",
       "      <td>2019-09-01 00:27:06</td>\n",
       "      <td>2019-09-01 00:33:22</td>\n",
       "      <td>N</td>\n",
       "      <td>1.0</td>\n",
       "      <td>145</td>\n",
       "      <td>112</td>\n",
       "      <td>1.0</td>\n",
       "      <td>1.73</td>\n",
       "      <td>7.5</td>\n",
       "      <td>0.5</td>\n",
       "      <td>0.5</td>\n",
       "      <td>1.50</td>\n",
       "      <td>0.0</td>\n",
       "      <td>NaN</td>\n",
       "      <td>0.3</td>\n",
       "      <td>10.30</td>\n",
       "      <td>1.0</td>\n",
       "      <td>1.0</td>\n",
       "      <td>0.0</td>\n",
       "    </tr>\n",
       "    <tr>\n",
       "      <th>4</th>\n",
       "      <td>2.0</td>\n",
       "      <td>2019-09-01 00:43:23</td>\n",
       "      <td>2019-09-01 00:59:54</td>\n",
       "      <td>N</td>\n",
       "      <td>1.0</td>\n",
       "      <td>112</td>\n",
       "      <td>198</td>\n",
       "      <td>1.0</td>\n",
       "      <td>3.42</td>\n",
       "      <td>14.0</td>\n",
       "      <td>0.5</td>\n",
       "      <td>0.5</td>\n",
       "      <td>3.06</td>\n",
       "      <td>0.0</td>\n",
       "      <td>NaN</td>\n",
       "      <td>0.3</td>\n",
       "      <td>18.36</td>\n",
       "      <td>1.0</td>\n",
       "      <td>1.0</td>\n",
       "      <td>0.0</td>\n",
       "    </tr>\n",
       "  </tbody>\n",
       "</table>\n",
       "</div>"
      ],
      "text/plain": [
       "   VendorID lpep_pickup_datetime lpep_dropoff_datetime store_and_fwd_flag  \\\n",
       "0       2.0  2019-09-01 00:10:53   2019-09-01 00:23:46                  N   \n",
       "1       2.0  2019-09-01 00:31:22   2019-09-01 00:44:37                  N   \n",
       "2       2.0  2019-09-01 00:50:24   2019-09-01 01:03:20                  N   \n",
       "3       2.0  2019-09-01 00:27:06   2019-09-01 00:33:22                  N   \n",
       "4       2.0  2019-09-01 00:43:23   2019-09-01 00:59:54                  N   \n",
       "\n",
       "   RatecodeID  PULocationID  DOLocationID  passenger_count  trip_distance  \\\n",
       "0         1.0            65           189              5.0           2.00   \n",
       "1         1.0            97           225              5.0           3.20   \n",
       "2         1.0            37            61              5.0           2.99   \n",
       "3         1.0           145           112              1.0           1.73   \n",
       "4         1.0           112           198              1.0           3.42   \n",
       "\n",
       "   fare_amount  extra  mta_tax  tip_amount  tolls_amount  ehail_fee  \\\n",
       "0         10.5    0.5      0.5        2.36           0.0        NaN   \n",
       "1         12.0    0.5      0.5        0.00           0.0        NaN   \n",
       "2         12.0    0.5      0.5        0.00           0.0        NaN   \n",
       "3          7.5    0.5      0.5        1.50           0.0        NaN   \n",
       "4         14.0    0.5      0.5        3.06           0.0        NaN   \n",
       "\n",
       "   improvement_surcharge  total_amount  payment_type  trip_type  \\\n",
       "0                    0.3         14.16           1.0        1.0   \n",
       "1                    0.3         13.30           2.0        1.0   \n",
       "2                    0.3         13.30           2.0        1.0   \n",
       "3                    0.3         10.30           1.0        1.0   \n",
       "4                    0.3         18.36           1.0        1.0   \n",
       "\n",
       "   congestion_surcharge  \n",
       "0                   0.0  \n",
       "1                   0.0  \n",
       "2                   0.0  \n",
       "3                   0.0  \n",
       "4                   0.0  "
      ]
     },
     "execution_count": 129,
     "metadata": {},
     "output_type": "execute_result"
    }
   ],
   "source": [
    "new_df_2.head()"
   ]
  },
  {
   "cell_type": "code",
   "execution_count": 133,
   "id": "17aa1b98-521a-4ae6-a640-3914be6b8aa5",
   "metadata": {},
   "outputs": [
    {
     "data": {
      "text/plain": [
       "PULocationID          7\n",
       "DOLocationID        132\n",
       "tip_amount        62.31\n",
       "Zone            Astoria\n",
       "Name: 98163, dtype: object"
      ]
     },
     "execution_count": 133,
     "metadata": {},
     "output_type": "execute_result"
    }
   ],
   "source": [
    "data_astoria = result[result[\"Zone\"] == \"Astoria\"][[\"PULocationID\", \"DOLocationID\", \"tip_amount\", \"Zone\"]]\n",
    "data_astoria.loc[data_astoria[\"tip_amount\"].idxmax()]"
   ]
  },
  {
   "cell_type": "code",
   "execution_count": 134,
   "id": "ef94f23e-109e-4ef0-af39-c56e2ecc541b",
   "metadata": {},
   "outputs": [
    {
     "data": {
      "text/html": [
       "<div>\n",
       "<style scoped>\n",
       "    .dataframe tbody tr th:only-of-type {\n",
       "        vertical-align: middle;\n",
       "    }\n",
       "\n",
       "    .dataframe tbody tr th {\n",
       "        vertical-align: top;\n",
       "    }\n",
       "\n",
       "    .dataframe thead th {\n",
       "        text-align: right;\n",
       "    }\n",
       "</style>\n",
       "<table border=\"1\" class=\"dataframe\">\n",
       "  <thead>\n",
       "    <tr style=\"text-align: right;\">\n",
       "      <th></th>\n",
       "      <th>LocationID</th>\n",
       "      <th>Borough</th>\n",
       "      <th>Zone</th>\n",
       "      <th>service_zone</th>\n",
       "    </tr>\n",
       "  </thead>\n",
       "  <tbody>\n",
       "    <tr>\n",
       "      <th>131</th>\n",
       "      <td>132</td>\n",
       "      <td>Queens</td>\n",
       "      <td>JFK Airport</td>\n",
       "      <td>Airports</td>\n",
       "    </tr>\n",
       "  </tbody>\n",
       "</table>\n",
       "</div>"
      ],
      "text/plain": [
       "     LocationID Borough         Zone service_zone\n",
       "131         132  Queens  JFK Airport     Airports"
      ]
     },
     "execution_count": 134,
     "metadata": {},
     "output_type": "execute_result"
    }
   ],
   "source": [
    "df_2.query(\"LocationID == 132\")"
   ]
  },
  {
   "cell_type": "code",
   "execution_count": null,
   "id": "52e68f66-dceb-43e8-823e-2771b5cb85b6",
   "metadata": {},
   "outputs": [],
   "source": []
  }
 ],
 "metadata": {
  "kernelspec": {
   "display_name": "Python 3 (ipykernel)",
   "language": "python",
   "name": "python3"
  },
  "language_info": {
   "codemirror_mode": {
    "name": "ipython",
    "version": 3
   },
   "file_extension": ".py",
   "mimetype": "text/x-python",
   "name": "python",
   "nbconvert_exporter": "python",
   "pygments_lexer": "ipython3",
   "version": "3.11.6"
  }
 },
 "nbformat": 4,
 "nbformat_minor": 5
}
